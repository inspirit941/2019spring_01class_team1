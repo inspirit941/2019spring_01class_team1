{
 "cells": [
  {
   "cell_type": "code",
   "execution_count": 7,
   "metadata": {},
   "outputs": [],
   "source": [
    "import requests\n",
    "import glob\n",
    "import pandas as pd\n",
    "import numpy as np\n",
    "from bs4 import BeautifulSoup as bs\n",
    "import re\n",
    "import shutil\n",
    "import json"
   ]
  },
  {
   "cell_type": "code",
   "execution_count": 28,
   "metadata": {},
   "outputs": [],
   "source": [
    "pid = {'단화':197360, '스니커즈':247485, '하이힐':197367,'치마|스커트':384822,'맨투맨|후드집업':186771,'아우터':186818,\n",
    "      '반팔티':186769, '반바지':186812, '긴바지':186811,'가방':197394,'스웨터':186796, '블라우스':186778}\n",
    "# 스웨터는 브이넥만."
   ]
  },
  {
   "cell_type": "code",
   "execution_count": 13,
   "metadata": {
    "scrolled": true
   },
   "outputs": [
    {
     "name": "stdout",
     "output_type": "stream",
     "text": [
      "단화\n",
      "1274\n",
      "단화 fin.\n",
      "스니커즈\n",
      "1312\n",
      "스니커즈 fin.\n",
      "하이힐\n",
      "1245\n",
      "하이힐 fin.\n",
      "치마|스커트\n",
      "1301\n",
      "치마|스커트 fin.\n",
      "맨투맨|후드집업\n",
      "1285\n",
      "맨투맨|후드집업 fin.\n",
      "아우터\n",
      "1250\n",
      "아우터 fin.\n",
      "반팔티\n",
      "1318\n",
      "반팔티 fin.\n",
      "반바지\n",
      "1219\n",
      "반바지 fin.\n",
      "긴바지\n",
      "1308\n",
      "긴바지 fin.\n",
      "가방\n",
      "1597\n",
      "가방 fin.\n",
      "스웨터\n",
      "1236\n",
      "스웨터 fin.\n",
      "블라우스\n",
      "1354\n",
      "블라우스 fin.\n"
     ]
    }
   ],
   "source": [
    "for name in pid.keys():\n",
    "    url_list = []\n",
    "    cate = pid[name]\n",
    "    url = \"https://www.coupang.com/np/categories/\"+str(cate)\n",
    "    querystring = {\"listSize\":\"120\",\"page\":\"1\"}\n",
    "    headers = {\n",
    "    'cache-control': \"no-cache\",\n",
    "    'Postman-Token': \"58d18c39-2c21-40c2-bb95-5d01c38796a0\"\n",
    "    }\n",
    "    response = requests.request(\"GET\", url, headers=headers, params=querystring)\n",
    "    html = bs(response.text, 'lxml')\n",
    "#     page_count = int(json.loads(html.find('ul',class_='baby-product-list')['data-products'])['productTotalPage'])\n",
    "    print(name)\n",
    "    for i in html.find('div', class_='newcx-list').find_all('img',src=True):\n",
    "        url_list.append(\"https:\"+str(i['src']))\n",
    "        \n",
    "    for page in range(2,20):\n",
    "        url = \"https://www.coupang.com/np/categories/\"+str(cate)\n",
    "        querystring = {\"listSize\":\"120\",\"page\":page}\n",
    "        headers = {\n",
    "        'cache-control': \"no-cache\",\n",
    "        'Postman-Token': \"58d18c39-2c21-40c2-bb95-5d01c38796a0\"\n",
    "        }\n",
    "        response = requests.request(\"GET\", url, headers=headers, params=querystring)\n",
    "        html = bs(response.text, 'lxml')\n",
    "        for i in html.find('div', class_='newcx-list').find_all('img',src=True):\n",
    "            url_list.append(\"https:\"+str(i['src']))\n",
    "        \n",
    "            \n",
    "    result = pd.DataFrame({'category':cate, 'url':url_list})\n",
    "    print(len(result))\n",
    "    result.to_csv(str(name)+'.csv')\n",
    "    print(name+' fin.')\n",
    "    # 나중에 가져온 데이터에서 thumbnail 있는 것만 써야한다."
   ]
  },
  {
   "cell_type": "code",
   "execution_count": 26,
   "metadata": {},
   "outputs": [
    {
     "data": {
      "text/plain": [
       "42"
      ]
     },
     "execution_count": 26,
     "metadata": {},
     "output_type": "execute_result"
    }
   ],
   "source": [
    "int(json.loads(html.find('ul',class_='baby-product-list')['data-products'])['productTotalPage'])"
   ]
  },
  {
   "cell_type": "code",
   "execution_count": 3,
   "metadata": {},
   "outputs": [
    {
     "data": {
      "text/plain": [
       "['블라우스.csv',\n",
       " '반바지.csv',\n",
       " '가방.csv',\n",
       " '단화.csv',\n",
       " '하이힐.csv',\n",
       " '긴바지.csv',\n",
       " '스니커즈.csv',\n",
       " '아우터.csv',\n",
       " '반팔티.csv',\n",
       " '맨투맨|후드집업.csv',\n",
       " '스웨터.csv',\n",
       " '치마|스커트.csv']"
      ]
     },
     "execution_count": 3,
     "metadata": {},
     "output_type": "execute_result"
    }
   ],
   "source": [
    "glob.glob(\"*.csv\")"
   ]
  },
  {
   "cell_type": "code",
   "execution_count": 32,
   "metadata": {},
   "outputs": [],
   "source": [
    "url = \"https://thumbnail15.coupangcdn.com/thumbnails/remote/230x230ex/image/vendor_inventory/images/2019/03/23/9/9/2ba0a592-1d95-458e-bfb5-0e73da90b5cc.jpg\"\n",
    "response = requests.request(\"GET\", url, stream=True)"
   ]
  },
  {
   "cell_type": "code",
   "execution_count": 33,
   "metadata": {},
   "outputs": [],
   "source": [
    "with open('img.jpg', 'wb') as out_file:\n",
    "    shutil.copyfileobj(response.raw, out_file)"
   ]
  },
  {
   "cell_type": "code",
   "execution_count": 22,
   "metadata": {
    "scrolled": true
   },
   "outputs": [
    {
     "data": {
      "text/plain": [
       "1073"
      ]
     },
     "execution_count": 22,
     "metadata": {},
     "output_type": "execute_result"
    }
   ],
   "source": [
    "temp = pd.read_csv('블라우스.csv')\n",
    "temp['url']\n",
    "\n",
    "len(temp.loc[temp.url.str.contains('badges')==False,:]['url'].unique())"
   ]
  },
  {
   "cell_type": "code",
   "execution_count": 36,
   "metadata": {},
   "outputs": [],
   "source": [
    "for name in pid.keys():\n",
    "    directory = \"./\"+str(name)\n",
    "    if not os.path.exists(directory):\n",
    "        os.makedirs(directory)\n",
    "        temp = pd.read_csv(str(name)+'.csv')\n",
    "        temp = temp.loc[temp.url.str.contains('badges')==False,:]\n",
    "        urllist = list(temp.url)\n",
    "        for idx, url in enumerate(urllist):\n",
    "            response = requests.request('GET',url, stream=True)\n",
    "            with open(str(directory)+'/'+str(name)+\"_\"+str(idx)+'.jpg','wb') as out_file:\n",
    "                shutil.copyfileobj(response.raw, out_file)\n",
    "            del response\n",
    "    \n",
    "    else:\n",
    "        pass"
   ]
  },
  {
   "cell_type": "code",
   "execution_count": 26,
   "metadata": {},
   "outputs": [],
   "source": [
    "import os\n",
    "os.makedirs('./'+str())"
   ]
  },
  {
   "cell_type": "code",
   "execution_count": null,
   "metadata": {},
   "outputs": [],
   "source": []
  }
 ],
 "metadata": {
  "kernelspec": {
   "display_name": "Python 3",
   "language": "python",
   "name": "python3"
  },
  "language_info": {
   "codemirror_mode": {
    "name": "ipython",
    "version": 3
   },
   "file_extension": ".py",
   "mimetype": "text/x-python",
   "name": "python",
   "nbconvert_exporter": "python",
   "pygments_lexer": "ipython3",
   "version": "3.7.2"
  }
 },
 "nbformat": 4,
 "nbformat_minor": 2
}
